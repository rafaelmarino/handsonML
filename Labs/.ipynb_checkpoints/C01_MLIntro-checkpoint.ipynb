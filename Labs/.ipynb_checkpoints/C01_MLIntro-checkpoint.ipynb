{
 "cells": [
  {
   "cell_type": "markdown",
   "metadata": {},
   "source": [
    "# Chapter 1\n",
    "\n",
    "### Topics:  \n",
    "- What is Machine Learning?\n",
    "- Why Use Machine Learning?\n",
    "- Types of Machine Learning Systems\n",
    "- Main Challenges of Machine Learning\n",
    "- Testing and Validating"
   ]
  },
  {
   "cell_type": "code",
   "execution_count": 3,
   "metadata": {},
   "outputs": [],
   "source": [
    "# To support both python 2 and python 3\n",
    "from __future__ import division, print_function, unicode_literals\n",
    "\n",
    "# Common imports\n",
    "import numpy as np\n",
    "import pandas as pd\n",
    "import sklearn\n",
    "import os\n",
    "\n",
    "# to make this notebook's output stable across runs\n",
    "np.random.seed(42)\n",
    "\n",
    "# To plot pretty figures\n",
    "%matplotlib inline\n",
    "import matplotlib\n",
    "import matplotlib.pyplot as plt\n",
    "plt.rcParams['axes.labelsize'] = 14\n",
    "plt.rcParams['xtick.labelsize'] = 12\n",
    "plt.rcParams['ytick.labelsize'] = 12\n",
    "\n",
    "# Where to save the figures\n",
    "PROJECT_ROOT_DIR = \".\"\n",
    "CHAPTER_ID = \"fundamentals\"\n",
    "\n",
    "def save_fig(fig_id, tight_layout=True):\n",
    "    path = os.path.join(PROJECT_ROOT_DIR, \"images\", CHAPTER_ID, fig_id + \".png\")\n",
    "    print(\"Saving figure\", fig_id)\n",
    "    if tight_layout:\n",
    "        plt.tight_layout()\n",
    "    plt.savefig(path, format='png', dpi=300)\n",
    "\n",
    "# Ignore useless warnings (see SciPy issue #5998)\n",
    "import warnings\n",
    "warnings.filterwarnings(action=\"ignore\", module=\"scipy\", message=\"^internal gelsd\")"
   ]
  },
  {
   "cell_type": "markdown",
   "metadata": {},
   "source": [
    "## What is Machine Learning?\n",
    "[Machine Learning is the] field of study that gives computers the ability to learn\n",
    "without being explicitly programmed.\n",
    "\n",
    "—Arthur Samuel, 1959\n",
    "\n",
    "A computer program is said to learn from experience E with respect to some task T\n",
    "and some performance measure P, if its performance on T, as measured by P, improves\n",
    "with experience E.\n",
    "\n",
    "—Tom Mitchell, 1997"
   ]
  },
  {
   "cell_type": "markdown",
   "metadata": {},
   "source": [
    "## Why Use Machine Learning?\n",
    "To summarize, Machine Learning is great for:\n",
    "\n",
    "- Problems for which existing solutions require a lot of hand-tuning or long lists of\n",
    "rules: one Machine Learning algorithm can often simplify code and perform better.  \n",
    "- Complex problems for which there is no good solution at all using a traditional\n",
    "approach: the best Machine Learning techniques can find a solution.  \n",
    "- Fluctuating environments: a Machine Learning system can adapt to new data.  \n",
    "- Getting insights about complex problems and large amounts of data.  "
   ]
  },
  {
   "cell_type": "markdown",
   "metadata": {},
   "source": [
    "## Types of Machine Learning Systems\n",
    "\n",
    "There are so many different types of Machine Learning systems that it is useful to\n",
    "classify them in broad categories based on:\n",
    "\n",
    "- Whether or not they are trained with human supervision (supervised, unsupervised,\n",
    "semisupervised, and Reinforcement Learning)  \n",
    "- Whether or not they can learn incrementally on the fly (online versus batch\n",
    "learning)  \n",
    "- Whether they work by simply comparing new data points to known data points,\n",
    "or instead detect patterns in the training data and build a predictive model, much\n",
    "like scientists do (instance-based versus model-based learning)  "
   ]
  },
  {
   "cell_type": "markdown",
   "metadata": {},
   "source": [
    "## Main Challenges of Machine Learning\n",
    "\n",
    "* Insufficient Quantity of Training Data\n",
    "* Nonrepresentative Training Data\n",
    "* Poor-Quality Data\n",
    "* Irrelevant Features\n",
    "* Overfitting the Training Data\n",
    "* Underfitting the Training Data"
   ]
  },
  {
   "cell_type": "code",
   "execution_count": 4,
   "metadata": {},
   "outputs": [],
   "source": [
    "def prepare_country_stats(oecd_bli, gdp_per_capita):\n",
    "    oecd_bli = oecd_bli[oecd_bli[\"INEQUALITY\"]==\"TOT\"]\n",
    "    oecd_bli = oecd_bli.pivot(index=\"Country\", columns=\"Indicator\", values=\"Value\")\n",
    "    gdp_per_capita.rename(columns={\"2015\": \"GDP per capita\"}, inplace=True)\n",
    "    gdp_per_capita.set_index(\"Country\", inplace=True)\n",
    "    full_country_stats = pd.merge(left=oecd_bli, right=gdp_per_capita,\n",
    "                                  left_index=True, right_index=True)\n",
    "    full_country_stats.sort_values(by=\"GDP per capita\", inplace=True)\n",
    "    remove_indices = [0, 1, 6, 8, 33, 34, 35]\n",
    "    keep_indices = list(set(range(36)) - set(remove_indices))\n",
    "    return full_country_stats[[\"GDP per capita\", 'Life satisfaction']].iloc[keep_indices]"
   ]
  },
  {
   "cell_type": "code",
   "execution_count": 6,
   "metadata": {},
   "outputs": [],
   "source": [
    "# Load the data\n",
    "oecd_bli = pd.read_csv(\".\\datasets\\lifesat\\oecd_bli_2015.csv\", thousands=',')\n",
    "gdp_per_capita = pd.read_csv(\".\\datasets\\lifesat\\gdp_per_capita.csv\",thousands=',',delimiter='\\t',\n",
    "encoding='latin1', na_values=\"n/a\")"
   ]
  },
  {
   "cell_type": "code",
   "execution_count": 7,
   "metadata": {},
   "outputs": [
    {
     "data": {
      "text/plain": [
       "array([[  9054.914],\n",
       "       [  9437.372],\n",
       "       [ 12239.894],\n",
       "       [ 12495.334],\n",
       "       [ 15991.736],\n",
       "       [ 17288.083],\n",
       "       [ 18064.288],\n",
       "       [ 19121.592],\n",
       "       [ 20732.482],\n",
       "       [ 25864.721],\n",
       "       [ 27195.197],\n",
       "       [ 29866.581],\n",
       "       [ 32485.545],\n",
       "       [ 35343.336],\n",
       "       [ 37044.891],\n",
       "       [ 37675.006],\n",
       "       [ 40106.632],\n",
       "       [ 40996.511],\n",
       "       [ 41973.988],\n",
       "       [ 43331.961],\n",
       "       [ 43603.115],\n",
       "       [ 43724.031],\n",
       "       [ 43770.688],\n",
       "       [ 49866.266],\n",
       "       [ 50854.583],\n",
       "       [ 50961.865],\n",
       "       [ 51350.744],\n",
       "       [ 52114.165],\n",
       "       [ 55805.204]])"
      ]
     },
     "execution_count": 7,
     "metadata": {},
     "output_type": "execute_result"
    }
   ],
   "source": [
    "# Prepare the data\n",
    "country_stats = prepare_country_stats(oecd_bli, gdp_per_capita)\n",
    "X = np.c_[country_stats[\"GDP per capita\"]]\n",
    "y = np.c_[country_stats[\"Life satisfaction\"]]\n",
    "# print(type(X))\n",
    "X.view()"
   ]
  },
  {
   "cell_type": "code",
   "execution_count": 8,
   "metadata": {},
   "outputs": [],
   "source": [
    "# Use ggplot style for matplotlib\n",
    "plt.style.use('seaborn-whitegrid')"
   ]
  },
  {
   "cell_type": "code",
   "execution_count": 9,
   "metadata": {},
   "outputs": [
    {
     "data": {
      "image/png": "[encoded data removed]",
      "text/plain": [
       "<matplotlib.figure.Figure at 0x1bafddc6f98>"
      ]
     },
     "metadata": {},
     "output_type": "display_data"
    }
   ],
   "source": [
    "# Visualize the data\n",
    "country_stats.plot(kind='scatter', x=\"GDP per capita\", y='Life satisfaction')\n",
    "plt.show()\n"
   ]
  },
  {
   "cell_type": "code",
   "execution_count": 10,
   "metadata": {},
   "outputs": [
    {
     "data": {
      "text/plain": [
       "LinearRegression(copy_X=True, fit_intercept=True, n_jobs=1, normalize=False)"
      ]
     },
     "execution_count": 10,
     "metadata": {},
     "output_type": "execute_result"
    }
   ],
   "source": [
    "# Select a linear model\n",
    "\n",
    "# sklearn does not automatically import its subpackages. \n",
    "# If you only imported via: import sklearn, then it wont work. \n",
    "# import with import sklearn.<subpackage> instead.\n",
    "\n",
    "from sklearn import linear_model\n",
    "lin_reg_model = sklearn.linear_model.LinearRegression()\n",
    "# Train the model\n",
    "lin_reg_model.fit(X, y)"
   ]
  },
  {
   "cell_type": "code",
   "execution_count": 11,
   "metadata": {},
   "outputs": [
    {
     "name": "stdout",
     "output_type": "stream",
     "text": [
      "[[ 5.96242338]]\n"
     ]
    }
   ],
   "source": [
    "# Make a prediction for Cyprus\n",
    "X_new = [[22587]] # Cyprus' GDP per capita\n",
    "print(lin_reg_model.predict(X_new)) # outputs [[ 5.96242338]]"
   ]
  },
  {
   "cell_type": "code",
   "execution_count": 12,
   "metadata": {},
   "outputs": [
    {
     "name": "stdout",
     "output_type": "stream",
     "text": [
      "Itercept + Coef1:  [ 4.8530528] [[  4.91154459e-05]]\n"
     ]
    }
   ],
   "source": [
    "message = 'Itercept + Coef1: '\n",
    "print(message, lin_reg_model.intercept_, lin_reg_model.coef_)"
   ]
  },
  {
   "cell_type": "code",
   "execution_count": 13,
   "metadata": {},
   "outputs": [],
   "source": [
    "# KNN\n",
    "clf = sklearn.neighbors.KNeighborsRegressor(n_neighbors = 3)"
   ]
  }
 ],
 "metadata": {
  "kernelspec": {
   "display_name": "Python 3",
   "language": "python",
   "name": "python3"
  },
  "language_info": {
   "codemirror_mode": {
    "name": "ipython",
    "version": 3
   },
   "file_extension": ".py",
   "mimetype": "text/x-python",
   "name": "python",
   "nbconvert_exporter": "python",
   "pygments_lexer": "ipython3",
   "version": "3.6.2"
  }
 },
 "nbformat": 4,
 "nbformat_minor": 2
}
